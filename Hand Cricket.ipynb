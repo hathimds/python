{
 "cells": [
  {
   "cell_type": "code",
   "execution_count": 3,
   "id": "b432e529-142d-419e-bee6-48d91518f8fa",
   "metadata": {},
   "outputs": [
    {
     "name": "stdout",
     "output_type": "stream",
     "text": [
      "Welcome to Hand Cricket Game!\n",
      "Let's Toss\n"
     ]
    },
    {
     "name": "stdin",
     "output_type": "stream",
     "text": [
      "Odd or Even:  odd\n",
      "Enter a number between 1 and 6 5\n"
     ]
    },
    {
     "name": "stdout",
     "output_type": "stream",
     "text": [
      "Computer choose 6\n",
      "Sum: 11\n",
      "You Won the toss, You choose to bat or bowl?\n"
     ]
    },
    {
     "name": "stdin",
     "output_type": "stream",
     "text": [
      "Enter 'bat' to bat first or 'bowl' to bowl first: bat\n"
     ]
    },
    {
     "name": "stdout",
     "output_type": "stream",
     "text": [
      "You are batting now\n"
     ]
    },
    {
     "name": "stdin",
     "output_type": "stream",
     "text": [
      "Choose a number between 1 and 6 to bat 3\n"
     ]
    },
    {
     "name": "stdout",
     "output_type": "stream",
     "text": [
      "Computer choose 6\n",
      "Your score: 3\n"
     ]
    },
    {
     "name": "stdin",
     "output_type": "stream",
     "text": [
      "Choose a number between 1 and 6 to bat 1\n"
     ]
    },
    {
     "name": "stdout",
     "output_type": "stream",
     "text": [
      "Computer choose 2\n",
      "Your score: 4\n"
     ]
    },
    {
     "name": "stdin",
     "output_type": "stream",
     "text": [
      "Choose a number between 1 and 6 to bat 6\n"
     ]
    },
    {
     "name": "stdout",
     "output_type": "stream",
     "text": [
      "Computer choose 1\n",
      "Your score: 10\n"
     ]
    },
    {
     "name": "stdin",
     "output_type": "stream",
     "text": [
      "Choose a number between 1 and 6 to bat 1\n"
     ]
    },
    {
     "name": "stdout",
     "output_type": "stream",
     "text": [
      "Computer choose 6\n",
      "Your score: 11\n"
     ]
    },
    {
     "name": "stdin",
     "output_type": "stream",
     "text": [
      "Choose a number between 1 and 6 to bat 3\n"
     ]
    },
    {
     "name": "stdout",
     "output_type": "stream",
     "text": [
      "Computer choose 6\n",
      "Your score: 14\n"
     ]
    },
    {
     "name": "stdin",
     "output_type": "stream",
     "text": [
      "Choose a number between 1 and 6 to bat 4\n"
     ]
    },
    {
     "name": "stdout",
     "output_type": "stream",
     "text": [
      "Computer choose 5\n",
      "Your score: 18\n"
     ]
    },
    {
     "name": "stdin",
     "output_type": "stream",
     "text": [
      "Choose a number between 1 and 6 to bat 5\n"
     ]
    },
    {
     "name": "stdout",
     "output_type": "stream",
     "text": [
      "Computer choose 3\n",
      "Your score: 23\n"
     ]
    },
    {
     "name": "stdin",
     "output_type": "stream",
     "text": [
      "Choose a number between 1 and 6 to bat 6\n"
     ]
    },
    {
     "name": "stdout",
     "output_type": "stream",
     "text": [
      "Computer choose 4\n",
      "Your score: 29\n"
     ]
    },
    {
     "name": "stdin",
     "output_type": "stream",
     "text": [
      "Choose a number between 1 and 6 to bat 4\n"
     ]
    },
    {
     "name": "stdout",
     "output_type": "stream",
     "text": [
      "Computer choose 6\n",
      "Your score: 33\n"
     ]
    },
    {
     "name": "stdin",
     "output_type": "stream",
     "text": [
      "Choose a number between 1 and 6 to bat 3\n"
     ]
    },
    {
     "name": "stdout",
     "output_type": "stream",
     "text": [
      "Computer choose 2\n",
      "Your score: 36\n"
     ]
    },
    {
     "name": "stdin",
     "output_type": "stream",
     "text": [
      "Choose a number between 1 and 6 to bat 2\n"
     ]
    },
    {
     "name": "stdout",
     "output_type": "stream",
     "text": [
      "Computer choose 5\n",
      "Your score: 38\n"
     ]
    },
    {
     "name": "stdin",
     "output_type": "stream",
     "text": [
      "Choose a number between 1 and 6 to bat 3\n"
     ]
    },
    {
     "name": "stdout",
     "output_type": "stream",
     "text": [
      "Computer choose 2\n",
      "Your score: 41\n"
     ]
    },
    {
     "name": "stdin",
     "output_type": "stream",
     "text": [
      "Choose a number between 1 and 6 to bat 3\n"
     ]
    },
    {
     "name": "stdout",
     "output_type": "stream",
     "text": [
      "Computer choose 2\n",
      "Your score: 44\n"
     ]
    },
    {
     "name": "stdin",
     "output_type": "stream",
     "text": [
      "Choose a number between 1 and 6 to bat 3\n"
     ]
    },
    {
     "name": "stdout",
     "output_type": "stream",
     "text": [
      "Computer choose 1\n",
      "Your score: 47\n"
     ]
    },
    {
     "name": "stdin",
     "output_type": "stream",
     "text": [
      "Choose a number between 1 and 6 to bat 2\n"
     ]
    },
    {
     "name": "stdout",
     "output_type": "stream",
     "text": [
      "Computer choose 1\n",
      "Your score: 49\n"
     ]
    },
    {
     "name": "stdin",
     "output_type": "stream",
     "text": [
      "Choose a number between 1 and 6 to bat 1\n"
     ]
    },
    {
     "name": "stdout",
     "output_type": "stream",
     "text": [
      "Computer choose 1\n",
      "You are out\n",
      "Your final score: 49\n",
      "Computer is batting now\n"
     ]
    },
    {
     "name": "stdin",
     "output_type": "stream",
     "text": [
      "Choose a number between 1 and 6 to bowl 2\n"
     ]
    },
    {
     "name": "stdout",
     "output_type": "stream",
     "text": [
      "Computer choose 1\n",
      "Computer score: 1\n"
     ]
    },
    {
     "name": "stdin",
     "output_type": "stream",
     "text": [
      "Choose a number between 1 and 6 to bowl 4\n"
     ]
    },
    {
     "name": "stdout",
     "output_type": "stream",
     "text": [
      "Computer choose 3\n",
      "Computer score: 4\n"
     ]
    },
    {
     "name": "stdin",
     "output_type": "stream",
     "text": [
      "Choose a number between 1 and 6 to bowl 6\n"
     ]
    },
    {
     "name": "stdout",
     "output_type": "stream",
     "text": [
      "Computer choose 2\n",
      "Computer score: 6\n"
     ]
    },
    {
     "name": "stdin",
     "output_type": "stream",
     "text": [
      "Choose a number between 1 and 6 to bowl 1\n"
     ]
    },
    {
     "name": "stdout",
     "output_type": "stream",
     "text": [
      "Computer choose 4\n",
      "Computer score: 10\n"
     ]
    },
    {
     "name": "stdin",
     "output_type": "stream",
     "text": [
      "Choose a number between 1 and 6 to bowl 6\n"
     ]
    },
    {
     "name": "stdout",
     "output_type": "stream",
     "text": [
      "Computer choose 4\n",
      "Computer score: 14\n"
     ]
    },
    {
     "name": "stdin",
     "output_type": "stream",
     "text": [
      "Choose a number between 1 and 6 to bowl 2\n"
     ]
    },
    {
     "name": "stdout",
     "output_type": "stream",
     "text": [
      "Computer choose 2\n",
      "Computer is out\n",
      "Computer's final score: 14\n",
      "Congratulations! You won!\n"
     ]
    }
   ],
   "source": [
    "import random\n",
    "\n",
    "def toss():\n",
    "    print(\"Let's Toss\")\n",
    "    toss_call = input('Odd or Even: ').lower()\n",
    "    \n",
    "    player_toss_number = int(input('Enter a number between 1 and 6'))\n",
    "    computer_toss_number = random.randint(1, 6)\n",
    "    toss_sum = player_toss_number + computer_toss_number\n",
    "\n",
    "    print(f'Computer choose {computer_toss_number}')\n",
    "    print(f'Sum: {toss_sum}')\n",
    "\n",
    "    toss_result = 'even' if toss_sum % 2 == 0 else 'odd'\n",
    "    \n",
    "    if toss_call == toss_result:\n",
    "        print('You Won the toss, You choose to bat or bowl?')\n",
    "        choice = input(\"Enter 'bat' to bat first or 'bowl' to bowl first:\").lower()\n",
    "        return choice\n",
    "\n",
    "    else:\n",
    "        print('You Loss the toss')\n",
    "        computer_choice = random.choice(['bat', 'bowl'])\n",
    "        print(f'Computer choose to {computer_choice} first')\n",
    "        return computer_choice\n",
    "\n",
    "def player_batting():\n",
    "    player_score = 0\n",
    "    print('You are batting now')\n",
    "    while True:\n",
    "        player_choice = int(input('Choose a number between 1 and 6 to bat'))\n",
    "        computer_choice = random.randint(1, 6)\n",
    "        print(f'Computer choose {computer_choice}')\n",
    "\n",
    "        if player_choice == computer_choice:\n",
    "            print('You are out')\n",
    "            break\n",
    "            \n",
    "        else:\n",
    "            player_score += player_choice\n",
    "            print(f'Your score: {player_score}')\n",
    "\n",
    "    return player_score\n",
    "\n",
    "def computer_batting(target):\n",
    "    computer_score = 0\n",
    "    print('Computer is batting now')\n",
    "    while True:\n",
    "        player_choice = int(input('Choose a number between 1 and 6 to bowl'))\n",
    "        computer_choice = random.randint(1, 6)\n",
    "        print(f'Computer choose {computer_choice}')\n",
    "\n",
    "        if player_choice == computer_choice:\n",
    "            print('Computer is out')\n",
    "            break\n",
    "\n",
    "        else:\n",
    "            computer_score += computer_choice\n",
    "            print(f'Computer score: {computer_score}')\n",
    "\n",
    "        if computer_score > target:\n",
    "            print('Computer Wins')\n",
    "            return computer_score\n",
    "\n",
    "    return computer_score\n",
    "\n",
    "def hand_cricket_game():\n",
    "    print(\"Welcome to Hand Cricket Game!\")\n",
    "    \n",
    "    # Toss to decide who bats/bowls first\n",
    "    toss_result = toss()\n",
    "    \n",
    "    if toss_result == 'bat':\n",
    "        # Player bats first\n",
    "        player_score = player_batting()\n",
    "        print(f'Your final score: {player_score}')\n",
    "        \n",
    "        # Computer bats next\n",
    "        computer_score = computer_batting(player_score)\n",
    "        print(f\"Computer's final score: {computer_score}\")\n",
    "        \n",
    "    else:\n",
    "        # Computer bats first\n",
    "        computer_score = computer_batting(float('inf'))  # No target for the first batting side\n",
    "        print(f\"Computer's final score: {computer_score}\")\n",
    "        \n",
    "        # Player bats next\n",
    "        player_score = player_batting()\n",
    "        print(f\"Your final score: {player_score}\")\n",
    "    \n",
    "    # Determine the winner\n",
    "    if player_score > computer_score:\n",
    "        print('Congratulations! You won!')\n",
    "    elif player_score < computer_score:\n",
    "        print('Computer won the game!')\n",
    "    else:\n",
    "        print(\"It's a tie!\")\n",
    "\n",
    "hand_cricket_game()"
   ]
  },
  {
   "cell_type": "code",
   "execution_count": null,
   "id": "c9f6f9f4-ada4-4f7c-bc95-05ecfedd7038",
   "metadata": {},
   "outputs": [],
   "source": []
  }
 ],
 "metadata": {
  "kernelspec": {
   "display_name": "Python 3 (ipykernel)",
   "language": "python",
   "name": "python3"
  },
  "language_info": {
   "codemirror_mode": {
    "name": "ipython",
    "version": 3
   },
   "file_extension": ".py",
   "mimetype": "text/x-python",
   "name": "python",
   "nbconvert_exporter": "python",
   "pygments_lexer": "ipython3",
   "version": "3.12.4"
  }
 },
 "nbformat": 4,
 "nbformat_minor": 5
}
